{
 "cells": [
  {
   "cell_type": "code",
   "execution_count": 1,
   "source": [
    "import numpy as np\r\n",
    "import pylab as pl\r\n",
    "import sys\r\n",
    "sys.path.append('osr_examples/scripts/')\r\n",
    "import environment_2d\r\n",
    "pl.ion()\r\n",
    "np.random.seed(4)\r\n",
    "env = environment_2d.Environment(10, 6, 5)\r\n",
    "pl.clf()\r\n",
    "env.plot()\r\n",
    "q = env.random_query()\r\n",
    "if q is not None:\r\n",
    "  x_start, y_start, x_goal, y_goal = q\r\n",
    "  env.plot_query(x_start, y_start, x_goal, y_goal)"
   ],
   "outputs": [
    {
     "output_type": "display_data",
     "data": {
      "image/png": "[encoded data removed]",
      "text/plain": [
       "<Figure size 432x288 with 1 Axes>"
      ]
     },
     "metadata": {
      "needs_background": "light"
     }
    }
   ],
   "metadata": {}
  },
  {
   "cell_type": "code",
   "execution_count": 58,
   "source": [
    "from math import dist\r\n",
    "\r\n",
    "def nodes(r):\r\n",
    "    #sample space for recording nodes\r\n",
    "    samplex = []\r\n",
    "    sampley = []\r\n",
    "    sample = []\r\n",
    "    sampletemp = []\r\n",
    "\r\n",
    "    sample.append((x_start, y_start))\r\n",
    "    sample.append((x_goal, y_goal))\r\n",
    "    \r\n",
    "    while True:\r\n",
    "        #current location\r\n",
    "        currentx = None\r\n",
    "        currenty = None\r\n",
    "\r\n",
    "        #generate random node across the map\r\n",
    "        num = 0\r\n",
    "        while (num<2000):\r\n",
    "            tempx = 10*np.random.rand()\r\n",
    "            tempy = 6*np.random.rand()\r\n",
    "            if env.check_collision(tempx, tempy) == False and (tempx, tempy) not in sample: #make sure no repeat nodes\r\n",
    "                num += 1\r\n",
    "                samplex.append(tempx)\r\n",
    "                sampley.append(tempy)\r\n",
    "                sample.append((tempx, tempy))\r\n",
    "        print(\"current sample\" + str(len(sample)))\r\n",
    "\r\n",
    "        #createlist for next visit and put start point as first visit node\r\n",
    "        nextvisit = [(x_start, y_start)]\r\n",
    "\r\n",
    "        #make a sample space copy \r\n",
    "        sampletemp = sample.copy()\r\n",
    "        #print(\"temp\" + str(len(sampletemp)))\r\n",
    "        #create parentnode list for tracking\r\n",
    "        parentsOf={}\r\n",
    "\r\n",
    "        loops = 0 #for monitor loop\r\n",
    "\r\n",
    "        while(len(nextvisit)!=0 and (currentx, currenty) != (x_goal, y_goal)):\r\n",
    "            \r\n",
    "            currentx, currenty = nextvisit[0]\r\n",
    "            nextvisit.pop(0)\r\n",
    "            #print(((x_start), (y_start)) in sample)\r\n",
    "            sampletemp.remove((currentx, currenty)) #remove visited node from sample\r\n",
    "            \r\n",
    "            if(dist((x_goal, y_goal), (currentx, currenty)) < r): #if goal is reachable from current postiion, reach it and break\r\n",
    "                parentsOf[(x_goal, y_goal)] = (currentx, currenty)\r\n",
    "                (currentx, currenty) = (x_goal, y_goal)\r\n",
    "                break\r\n",
    "            \r\n",
    "            for tempx, tempy in sampletemp: #mark every node within r and not visited as nextvisit\r\n",
    "                thisnode = (tempx, tempy)\r\n",
    "                if dist((tempx, tempy), (currentx, currenty)) < r:\r\n",
    "                    parentsOf[(tempx, tempy)] = (currentx, currenty)\r\n",
    "                    nextvisit.append(thisnode)\r\n",
    "            \r\n",
    "            loops += 1\r\n",
    "            if(loops % 1000 == 0):\r\n",
    "                print(loops)\r\n",
    "\r\n",
    "        if(len(nextvisit) == 0 and (currentx, currenty) != (x_goal, y_goal)): # if goal not reachable \r\n",
    "            print(\"not found\")\r\n",
    "            #nodeNum+=2000\r\n",
    "            print(\"current nodes: \" + str(len(sample)))\r\n",
    "        elif((currentx, currenty) == (x_goal, y_goal)): # if reached goal\r\n",
    "            print(\"found\")\r\n",
    "            nodeNums.append(len(sample))\r\n",
    "            print(str(r) + ': ' + str(len(sample)))\r\n",
    "            break"
   ],
   "outputs": [],
   "metadata": {}
  },
  {
   "cell_type": "code",
   "execution_count": 59,
   "source": [
    "#numNode = 2000\r\n",
    "rdist = [0.5, 0.1, 0.05, 0.01]\r\n",
    "nodeNums = []\r\n",
    "nodeNum = 2000\r\n",
    "\r\n",
    "for r in rdist:\r\n",
    "    nodes(r)"
   ],
   "outputs": [
    {
     "output_type": "stream",
     "name": "stdout",
     "text": [
      "current sample2002\n"
     ]
    },
    {
     "output_type": "error",
     "ename": "ValueError",
     "evalue": "list.remove(x): x not in list",
     "traceback": [
      "\u001b[1;31m---------------------------------------------------------------------------\u001b[0m",
      "\u001b[1;31mValueError\u001b[0m                                Traceback (most recent call last)",
      "\u001b[1;32m<ipython-input-59-5a7322357993>\u001b[0m in \u001b[0;36m<module>\u001b[1;34m\u001b[0m\n\u001b[0;32m      5\u001b[0m \u001b[1;33m\u001b[0m\u001b[0m\n\u001b[0;32m      6\u001b[0m \u001b[1;32mfor\u001b[0m \u001b[0mr\u001b[0m \u001b[1;32min\u001b[0m \u001b[0mrdist\u001b[0m\u001b[1;33m:\u001b[0m\u001b[1;33m\u001b[0m\u001b[1;33m\u001b[0m\u001b[0m\n\u001b[1;32m----> 7\u001b[1;33m     \u001b[0mnodes\u001b[0m\u001b[1;33m(\u001b[0m\u001b[0mr\u001b[0m\u001b[1;33m)\u001b[0m\u001b[1;33m\u001b[0m\u001b[1;33m\u001b[0m\u001b[0m\n\u001b[0m",
      "\u001b[1;32m<ipython-input-58-c34c4f70e148>\u001b[0m in \u001b[0;36mnodes\u001b[1;34m(r)\u001b[0m\n\u001b[0;32m     44\u001b[0m             \u001b[0mnextvisit\u001b[0m\u001b[1;33m.\u001b[0m\u001b[0mpop\u001b[0m\u001b[1;33m(\u001b[0m\u001b[1;36m0\u001b[0m\u001b[1;33m)\u001b[0m\u001b[1;33m\u001b[0m\u001b[1;33m\u001b[0m\u001b[0m\n\u001b[0;32m     45\u001b[0m             \u001b[1;31m#print(((x_start), (y_start)) in sample)\u001b[0m\u001b[1;33m\u001b[0m\u001b[1;33m\u001b[0m\u001b[1;33m\u001b[0m\u001b[0m\n\u001b[1;32m---> 46\u001b[1;33m             \u001b[0msampletemp\u001b[0m\u001b[1;33m.\u001b[0m\u001b[0mremove\u001b[0m\u001b[1;33m(\u001b[0m\u001b[1;33m(\u001b[0m\u001b[0mcurrentx\u001b[0m\u001b[1;33m,\u001b[0m \u001b[0mcurrenty\u001b[0m\u001b[1;33m)\u001b[0m\u001b[1;33m)\u001b[0m \u001b[1;31m#remove visited node from sample\u001b[0m\u001b[1;33m\u001b[0m\u001b[1;33m\u001b[0m\u001b[0m\n\u001b[0m\u001b[0;32m     47\u001b[0m \u001b[1;33m\u001b[0m\u001b[0m\n\u001b[0;32m     48\u001b[0m             \u001b[1;32mif\u001b[0m\u001b[1;33m(\u001b[0m\u001b[0mdist\u001b[0m\u001b[1;33m(\u001b[0m\u001b[1;33m(\u001b[0m\u001b[0mx_goal\u001b[0m\u001b[1;33m,\u001b[0m \u001b[0my_goal\u001b[0m\u001b[1;33m)\u001b[0m\u001b[1;33m,\u001b[0m \u001b[1;33m(\u001b[0m\u001b[0mcurrentx\u001b[0m\u001b[1;33m,\u001b[0m \u001b[0mcurrenty\u001b[0m\u001b[1;33m)\u001b[0m\u001b[1;33m)\u001b[0m \u001b[1;33m<\u001b[0m \u001b[0mr\u001b[0m\u001b[1;33m)\u001b[0m\u001b[1;33m:\u001b[0m \u001b[1;31m#if goal is reachable from current postiion, reach it and break\u001b[0m\u001b[1;33m\u001b[0m\u001b[1;33m\u001b[0m\u001b[0m\n",
      "\u001b[1;31mValueError\u001b[0m: list.remove(x): x not in list"
     ]
    }
   ],
   "metadata": {}
  },
  {
   "cell_type": "code",
   "execution_count": 57,
   "source": [
    "nodeNums"
   ],
   "outputs": [
    {
     "output_type": "execute_result",
     "data": {
      "text/plain": [
       "[2002, 12002, 38002]"
      ]
     },
     "metadata": {},
     "execution_count": 57
    }
   ],
   "metadata": {}
  },
  {
   "cell_type": "code",
   "execution_count": 48,
   "source": [
    "((x_start), (y_start)) in sample"
   ],
   "outputs": [
    {
     "output_type": "error",
     "ename": "NameError",
     "evalue": "name 'sample' is not defined",
     "traceback": [
      "\u001b[1;31m---------------------------------------------------------------------------\u001b[0m",
      "\u001b[1;31mNameError\u001b[0m                                 Traceback (most recent call last)",
      "\u001b[1;32m<ipython-input-48-de60f1200e46>\u001b[0m in \u001b[0;36m<module>\u001b[1;34m\u001b[0m\n\u001b[1;32m----> 1\u001b[1;33m \u001b[1;33m(\u001b[0m\u001b[1;33m(\u001b[0m\u001b[0mx_start\u001b[0m\u001b[1;33m)\u001b[0m\u001b[1;33m,\u001b[0m \u001b[1;33m(\u001b[0m\u001b[0my_start\u001b[0m\u001b[1;33m)\u001b[0m\u001b[1;33m)\u001b[0m \u001b[1;32min\u001b[0m \u001b[0msample\u001b[0m\u001b[1;33m\u001b[0m\u001b[1;33m\u001b[0m\u001b[0m\n\u001b[0m",
      "\u001b[1;31mNameError\u001b[0m: name 'sample' is not defined"
     ]
    }
   ],
   "metadata": {}
  },
  {
   "cell_type": "code",
   "execution_count": null,
   "source": [],
   "outputs": [],
   "metadata": {}
  }
 ],
 "metadata": {
  "orig_nbformat": 4,
  "language_info": {
   "name": "python",
   "version": "3.9.1",
   "mimetype": "text/x-python",
   "codemirror_mode": {
    "name": "ipython",
    "version": 3
   },
   "pygments_lexer": "ipython3",
   "nbconvert_exporter": "python",
   "file_extension": ".py"
  },
  "kernelspec": {
   "name": "python3",
   "display_name": "Python 3.9.1 64-bit"
  },
  "interpreter": {
   "hash": "c0fe8b7a7fb0093230b755e6f807c74875ca3e8fa43b00bff5b4d2c0a60aeb9f"
  }
 },
 "nbformat": 4,
 "nbformat_minor": 2
}